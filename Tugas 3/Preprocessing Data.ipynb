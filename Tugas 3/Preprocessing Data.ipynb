{
 "cells": [
  {
   "cell_type": "code",
   "execution_count": null,
   "id": "bf389267-64f6-442d-9e03-01ec8ef28830",
   "metadata": {},
   "outputs": [],
   "source": [
    "# mengimpor data\n",
    "import numpy as np\n",
    "import pandas as pd\n",
    "import matplotlib.pyplot as plt\n",
    "\n"
   ]
  },
  {
   "cell_type": "code",
   "execution_count": 28,
   "id": "8c6dd59f-84b0-4276-87af-2a048e6cc9ee",
   "metadata": {},
   "outputs": [],
   "source": [
    "dataset = pd.read_csv('dataset.csv', sep=';')\n",
    "x = dataset.iloc[:,:-1].values\n",
    "y = dataset.iloc[:,-1].values"
   ]
  },
  {
   "cell_type": "code",
   "execution_count": 31,
   "id": "16b5994a-8b1f-45e0-a16f-397f1b745a2e",
   "metadata": {},
   "outputs": [
    {
     "name": "stdout",
     "output_type": "stream",
     "text": [
      "   country   age   salary purchased\n",
      "0  prancis  44.0  72000.0       yes\n",
      "1  spanyol  27.0  48000.0        no\n",
      "2   jerman  30.0  54000.0       yes\n",
      "3  spanyol  38.0  61000.0       yes\n",
      "4   jerman  40.0      NaN        no\n"
     ]
    }
   ],
   "source": [
    "print(dataset.head())"
   ]
  },
  {
   "cell_type": "code",
   "execution_count": 30,
   "id": "c6ee9e9a-c682-4654-9b41-17ea28c1ad0c",
   "metadata": {},
   "outputs": [
    {
     "name": "stdout",
     "output_type": "stream",
     "text": [
      "[['prancis' 44.0 72000.0]\n",
      " ['spanyol' 27.0 48000.0]\n",
      " ['jerman' 30.0 54000.0]\n",
      " ['spanyol' 38.0 61000.0]\n",
      " ['jerman' 40.0 nan]\n",
      " ['prancis' 35.0 58000.0]\n",
      " ['spanyol' nan 61000.0]\n",
      " ['prancis' 48.0 79000.0]\n",
      " ['jerman' 50.0 83000.0]\n",
      " ['prancis' 37.0 67000.0]\n",
      " ['indonesia' 20.0 50000.0]\n",
      " ['prancis' 22.0 45000.0]\n",
      " ['indonesia' 45.0 21400.0]\n",
      " ['indonesia' 29.0 40000.0]]\n"
     ]
    }
   ],
   "source": [
    "print(x)"
   ]
  },
  {
   "cell_type": "code",
   "execution_count": 32,
   "id": "5e603c23-d8ca-4511-8a79-231b169a15dc",
   "metadata": {},
   "outputs": [
    {
     "name": "stdout",
     "output_type": "stream",
     "text": [
      "['yes' 'no' 'yes' 'yes' 'no' 'no' 'yes' 'no' 'yes' 'no' 'yes' 'no' 'yes'\n",
      " 'yes']\n"
     ]
    }
   ],
   "source": [
    "print(y)"
   ]
  },
  {
   "cell_type": "code",
   "execution_count": 33,
   "id": "71a2884e-f312-4c7e-b23c-f8fb9ab9cc5c",
   "metadata": {},
   "outputs": [],
   "source": [
    "from sklearn.impute import SimpleImputer\n",
    "imputer = SimpleImputer(missing_values=np.nan, strategy='mean')\n",
    "imputer.fit(x[:,1:3])\n",
    "x[:, 1:3] = imputer.transform(x[:, 1:3])"
   ]
  },
  {
   "cell_type": "code",
   "execution_count": 34,
   "id": "99e84d36-0db1-4937-b16c-5bffcdeb0022",
   "metadata": {},
   "outputs": [
    {
     "name": "stdout",
     "output_type": "stream",
     "text": [
      "[['prancis' 44.0 72000.0]\n",
      " ['spanyol' 27.0 48000.0]\n",
      " ['jerman' 30.0 54000.0]\n",
      " ['spanyol' 38.0 61000.0]\n",
      " ['jerman' 40.0 56876.92307692308]\n",
      " ['prancis' 35.0 58000.0]\n",
      " ['spanyol' 35.76923076923077 61000.0]\n",
      " ['prancis' 48.0 79000.0]\n",
      " ['jerman' 50.0 83000.0]\n",
      " ['prancis' 37.0 67000.0]\n",
      " ['indonesia' 20.0 50000.0]\n",
      " ['prancis' 22.0 45000.0]\n",
      " ['indonesia' 45.0 21400.0]\n",
      " ['indonesia' 29.0 40000.0]]\n"
     ]
    }
   ],
   "source": [
    "print(x)"
   ]
  },
  {
   "cell_type": "code",
   "execution_count": 35,
   "id": "e9cc01b2-e945-4d0c-8260-2dfa9f89c65c",
   "metadata": {},
   "outputs": [],
   "source": [
    "from sklearn.compose import ColumnTransformer\n",
    "from sklearn.preprocessing import OneHotEncoder\n",
    "ct = ColumnTransformer(transformers=[('encoder',OneHotEncoder(),[0])], remainder='passthrough')\n",
    "x = np.array(ct.fit_transform(x))"
   ]
  },
  {
   "cell_type": "code",
   "execution_count": 36,
   "id": "065efaa2-8ed7-403a-a8d2-bbaeacf0c90d",
   "metadata": {},
   "outputs": [
    {
     "name": "stdout",
     "output_type": "stream",
     "text": [
      "[[0.0 0.0 1.0 0.0 44.0 72000.0]\n",
      " [0.0 0.0 0.0 1.0 27.0 48000.0]\n",
      " [0.0 1.0 0.0 0.0 30.0 54000.0]\n",
      " [0.0 0.0 0.0 1.0 38.0 61000.0]\n",
      " [0.0 1.0 0.0 0.0 40.0 56876.92307692308]\n",
      " [0.0 0.0 1.0 0.0 35.0 58000.0]\n",
      " [0.0 0.0 0.0 1.0 35.76923076923077 61000.0]\n",
      " [0.0 0.0 1.0 0.0 48.0 79000.0]\n",
      " [0.0 1.0 0.0 0.0 50.0 83000.0]\n",
      " [0.0 0.0 1.0 0.0 37.0 67000.0]\n",
      " [1.0 0.0 0.0 0.0 20.0 50000.0]\n",
      " [0.0 0.0 1.0 0.0 22.0 45000.0]\n",
      " [1.0 0.0 0.0 0.0 45.0 21400.0]\n",
      " [1.0 0.0 0.0 0.0 29.0 40000.0]]\n"
     ]
    }
   ],
   "source": [
    "\n",
    "print(x)"
   ]
  },
  {
   "cell_type": "code",
   "execution_count": 37,
   "id": "26badf4e-dde7-439d-817f-b008defc02a3",
   "metadata": {},
   "outputs": [],
   "source": [
    "\n",
    "from sklearn.preprocessing import LabelEncoder\n",
    "le = LabelEncoder()\n",
    "y = le.fit_transform(y)"
   ]
  },
  {
   "cell_type": "code",
   "execution_count": 38,
   "id": "ae3b946a-daf9-4d71-b051-0ab1f6be14fd",
   "metadata": {},
   "outputs": [
    {
     "name": "stdout",
     "output_type": "stream",
     "text": [
      "[1 0 1 1 0 0 1 0 1 0 1 0 1 1]\n"
     ]
    }
   ],
   "source": [
    "print(y)"
   ]
  },
  {
   "cell_type": "code",
   "execution_count": 39,
   "id": "247080aa-51ec-4565-a248-8609ce920b95",
   "metadata": {},
   "outputs": [],
   "source": [
    "from sklearn.model_selection import train_test_split\n",
    "x_train, x_test, y_train, y_test = train_test_split(x, y, test_size = 0.2, random_state = 1)"
   ]
  },
  {
   "cell_type": "code",
   "execution_count": 40,
   "id": "8d533a98-af0c-40ec-b04b-ec9ef9846042",
   "metadata": {},
   "outputs": [
    {
     "name": "stdout",
     "output_type": "stream",
     "text": [
      "[[0.0 1.0 0.0 0.0 30.0 54000.0]\n",
      " [1.0 0.0 0.0 0.0 20.0 50000.0]\n",
      " [0.0 1.0 0.0 0.0 40.0 56876.92307692308]\n",
      " [0.0 0.0 0.0 1.0 27.0 48000.0]\n",
      " [1.0 0.0 0.0 0.0 45.0 21400.0]\n",
      " [0.0 0.0 1.0 0.0 44.0 72000.0]\n",
      " [1.0 0.0 0.0 0.0 29.0 40000.0]\n",
      " [0.0 0.0 1.0 0.0 37.0 67000.0]\n",
      " [0.0 1.0 0.0 0.0 50.0 83000.0]\n",
      " [0.0 0.0 1.0 0.0 22.0 45000.0]\n",
      " [0.0 0.0 1.0 0.0 35.0 58000.0]]\n"
     ]
    }
   ],
   "source": [
    "print(x_train)"
   ]
  },
  {
   "cell_type": "code",
   "execution_count": 41,
   "id": "1e0055ab-d7b6-49f1-aa45-8726524d3d52",
   "metadata": {},
   "outputs": [
    {
     "name": "stdout",
     "output_type": "stream",
     "text": [
      "[[0.0 0.0 0.0 1.0 38.0 61000.0]\n",
      " [0.0 0.0 1.0 0.0 48.0 79000.0]\n",
      " [0.0 0.0 0.0 1.0 35.76923076923077 61000.0]]\n"
     ]
    }
   ],
   "source": [
    "\n",
    "print(x_test)"
   ]
  },
  {
   "cell_type": "code",
   "execution_count": 42,
   "id": "2229e8e0-7bff-43a9-b0a7-04cde5e0351e",
   "metadata": {},
   "outputs": [
    {
     "name": "stdout",
     "output_type": "stream",
     "text": [
      "[1 1 0 0 1 1 1 0 1 0 0]\n"
     ]
    }
   ],
   "source": [
    "print(y_train)"
   ]
  },
  {
   "cell_type": "code",
   "execution_count": 43,
   "id": "04351ecc-9a16-490f-92e6-4c15a9ef2218",
   "metadata": {},
   "outputs": [
    {
     "name": "stdout",
     "output_type": "stream",
     "text": [
      "[1 0 1]\n"
     ]
    }
   ],
   "source": [
    "print(y_test)"
   ]
  },
  {
   "cell_type": "code",
   "execution_count": 44,
   "id": "3738315c-e640-42d7-b905-1aaa2de946d6",
   "metadata": {},
   "outputs": [],
   "source": [
    "from sklearn.preprocessing import StandardScaler\n",
    "sc = StandardScaler()\n",
    "x_train[:, 3:] = sc.fit_transform(x_train[:, 3:])\n",
    "x_test[:, 3:] = sc.fit_transform(x_test[:, 3:])"
   ]
  },
  {
   "cell_type": "code",
   "execution_count": 45,
   "id": "25b5480b-d7c7-4314-b4c8-00c26a5c99a8",
   "metadata": {},
   "outputs": [
    {
     "name": "stdout",
     "output_type": "stream",
     "text": [
      "[[0.0 1.0 0.0 -0.316227766016838 -0.4791502965599001\n",
      "  -0.007341940391928278]\n",
      " [1.0 0.0 0.0 -0.316227766016838 -1.5547938194494721 -0.2603292840174229]\n",
      " [0.0 1.0 0.0 -0.316227766016838 0.5964932263296719 0.17461434136948523]\n",
      " [0.0 0.0 0.0 3.16227766016838 -0.8018433534267717 -0.3868229558301702]\n",
      " [1.0 0.0 0.0 -0.316227766016838 1.1343149877744578 -2.0691887909397093]\n",
      " [0.0 0.0 1.0 -0.316227766016838 1.0267506354855007 1.1311011059227976]\n",
      " [1.0 0.0 0.0 -0.316227766016838 -0.5867146488488574 -0.8927976430811594]\n",
      " [0.0 0.0 1.0 -0.316227766016838 0.2738001694628003 0.8148669263909292]\n",
      " [0.0 1.0 0.0 -0.316227766016838 1.6721367492192438 1.8268163008929077]\n",
      " [0.0 0.0 1.0 -0.316227766016838 -1.3396651148715577 -0.5765634635492911]\n",
      " [0.0 0.0 1.0 -0.316227766016838 0.058671464884885886 0.24564540323356632]]\n"
     ]
    }
   ],
   "source": [
    "print(x_train)"
   ]
  },
  {
   "cell_type": "code",
   "execution_count": 46,
   "id": "689d409d-7685-47fa-8dc2-7bf5a81bb9ed",
   "metadata": {},
   "outputs": [
    {
     "name": "stdout",
     "output_type": "stream",
     "text": [
      "[[0.0 0.0 0.0 0.7071067811865476 -0.4869407000953254 -0.7071067811865476]\n",
      " [0.0 0.0 1.0 -1.414213562373095 1.3933253695796926 1.4142135623730951]\n",
      " [0.0 0.0 0.0 0.7071067811865476 -0.9063846694843684 -0.7071067811865476]]\n"
     ]
    }
   ],
   "source": [
    "print(x_test)"
   ]
  },
  {
   "cell_type": "code",
   "execution_count": null,
   "id": "f338f2e0-cea7-4134-ba56-afc6ed956093",
   "metadata": {},
   "outputs": [],
   "source": []
  }
 ],
 "metadata": {
  "kernelspec": {
   "display_name": "Python 3 (ipykernel)",
   "language": "python",
   "name": "python3"
  },
  "language_info": {
   "codemirror_mode": {
    "name": "ipython",
    "version": 3
   },
   "file_extension": ".py",
   "mimetype": "text/x-python",
   "name": "python",
   "nbconvert_exporter": "python",
   "pygments_lexer": "ipython3",
   "version": "3.11.7"
  }
 },
 "nbformat": 4,
 "nbformat_minor": 5
}
